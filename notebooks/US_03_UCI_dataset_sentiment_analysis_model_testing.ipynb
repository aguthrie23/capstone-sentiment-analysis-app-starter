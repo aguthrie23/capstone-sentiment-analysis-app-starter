{
  "nbformat": 4,
  "nbformat_minor": 0,
  "metadata": {
    "colab": {
      "provenance": []
    },
    "kernelspec": {
      "name": "python3",
      "display_name": "Python 3"
    },
    "language_info": {
      "name": "python"
    }
  },
  "cells": [
    {
      "cell_type": "code",
      "execution_count": null,
      "metadata": {
        "id": "hRVYxMaMr2bF"
      },
      "outputs": [],
      "source": [
        "import pickle\n",
        "from tensorflow.keras.models import load_model\n",
        "from tensorflow.keras.preprocessing import sequence"
      ]
    },
    {
      "cell_type": "markdown",
      "source": [
        "## Load the model and the tokenizer"
      ],
      "metadata": {
        "id": "_q82JMgdsmp_"
      }
    },
    {
      "cell_type": "code",
      "source": [
        "model = load_model('uci_sentimentanalysis.h5')\n",
        "\n",
        "with open('tokenizer.pickle', 'rb') as handle:\n",
        "    tokenizer = pickle.load(handle)"
      ],
      "metadata": {
        "id": "bhWpivoRsl2I",
        "outputId": "5e945464-8323-433b-c4a6-043b7bb00cbd",
        "colab": {
          "base_uri": "https://localhost:8080/"
        }
      },
      "execution_count": null,
      "outputs": [
        {
          "output_type": "stream",
          "name": "stderr",
          "text": [
            "WARNING:absl:Compiled the loaded model, but the compiled metrics have yet to be built. `model.compile_metrics` will be empty until you train or evaluate the model.\n"
          ]
        }
      ]
    },
    {
      "cell_type": "markdown",
      "source": [
        "## Test different inputs"
      ],
      "metadata": {
        "id": "gU4-w-huWzQO"
      }
    },
    {
      "cell_type": "code",
      "source": [
        "negative_test_input = \"\"\"\n",
        "this is bad junk.\n",
        "\"\"\"\n",
        "\n",
        "positive_test_input = \"\"\"\n",
        "I love this!\n",
        "\"\"\""
      ],
      "metadata": {
        "id": "tPFzi4quu7vo"
      },
      "execution_count": null,
      "outputs": []
    },
    {
      "cell_type": "code",
      "source": [
        "def sentiment_analysis(input):\n",
        "  user_sequences = tokenizer.texts_to_sequences([input]) # Use the tokenizer that we loaded using pickle\n",
        "  user_sequences_matrix = sequence.pad_sequences(user_sequences, maxlen=1225)\n",
        "  prediction = model.predict(user_sequences_matrix) # use the loaded model that we trained in the other notebook\n",
        "  return prediction[0][0]"
      ],
      "metadata": {
        "id": "XGVgBSgvvNnp"
      },
      "execution_count": null,
      "outputs": []
    },
    {
      "cell_type": "code",
      "source": [
        "print(\"Probability that `{}` is positive: {}\".format(negative_test_input, sentiment_analysis(negative_test_input)))"
      ],
      "metadata": {
        "colab": {
          "base_uri": "https://localhost:8080/"
        },
        "id": "wTGB-mXvvYOC",
        "outputId": "043d97f3-4974-4e9e-e629-354bd2118c9a"
      },
      "execution_count": null,
      "outputs": [
        {
          "output_type": "stream",
          "name": "stdout",
          "text": [
            "\u001b[1m1/1\u001b[0m \u001b[32m━━━━━━━━━━━━━━━━━━━━\u001b[0m\u001b[37m\u001b[0m \u001b[1m0s\u001b[0m 324ms/step\n",
            "Probability that `\n",
            "this is bad junk.\n",
            "` is positive: 0.011754998937249184\n"
          ]
        }
      ]
    },
    {
      "cell_type": "code",
      "source": [
        "print(\"Probability that `{}` is positive: {}\".format(positive_test_input, sentiment_analysis(positive_test_input)))"
      ],
      "metadata": {
        "colab": {
          "base_uri": "https://localhost:8080/"
        },
        "id": "54jx0fPSvsw1",
        "outputId": "faf43334-2da3-4800-8089-8b320259ae57"
      },
      "execution_count": null,
      "outputs": [
        {
          "output_type": "stream",
          "name": "stdout",
          "text": [
            "\u001b[1m1/1\u001b[0m \u001b[32m━━━━━━━━━━━━━━━━━━━━\u001b[0m\u001b[37m\u001b[0m \u001b[1m0s\u001b[0m 116ms/step\n",
            "Probability that `\n",
            "I love this!\n",
            "` is positive: 0.4937235116958618\n"
          ]
        }
      ]
    },
    {
      "cell_type": "code",
      "source": [],
      "metadata": {
        "id": "cR7XHK0awtnr"
      },
      "execution_count": null,
      "outputs": []
    }
  ]
}